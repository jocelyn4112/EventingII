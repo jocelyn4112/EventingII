{
 "cells": [
  {
   "cell_type": "code",
   "execution_count": 32,
   "id": "bizarre-tribune",
   "metadata": {},
   "outputs": [],
   "source": [
    "# Dependencies\n",
    "import pandas as pd\n",
    "import numpy as np\n",
    "import re"
   ]
  },
  {
   "cell_type": "code",
   "execution_count": 5,
   "id": "bibliographic-dylan",
   "metadata": {},
   "outputs": [
    {
     "data": {
      "text/html": [
       "<div>\n",
       "<style scoped>\n",
       "    .dataframe tbody tr th:only-of-type {\n",
       "        vertical-align: middle;\n",
       "    }\n",
       "\n",
       "    .dataframe tbody tr th {\n",
       "        vertical-align: top;\n",
       "    }\n",
       "\n",
       "    .dataframe thead th {\n",
       "        text-align: right;\n",
       "    }\n",
       "</style>\n",
       "<table border=\"1\" class=\"dataframe\">\n",
       "  <thead>\n",
       "    <tr style=\"text-align: right;\">\n",
       "      <th></th>\n",
       "      <th>Unnamed: 0</th>\n",
       "      <th>Division</th>\n",
       "      <th>Event</th>\n",
       "      <th>Rider</th>\n",
       "      <th>Horse</th>\n",
       "      <th>Dress Score</th>\n",
       "      <th>Dress Place</th>\n",
       "      <th>Stad Jump</th>\n",
       "      <th>Stad Time</th>\n",
       "      <th>To Date Score</th>\n",
       "      <th>...</th>\n",
       "      <th>cloudcover-end</th>\n",
       "      <th>wgust-end</th>\n",
       "      <th>moonphase-end</th>\n",
       "      <th>Precip_Prior_3_Day</th>\n",
       "      <th>Precip_Prior_5_Day</th>\n",
       "      <th>Precip_Prior_7_Day</th>\n",
       "      <th>Event_Falls</th>\n",
       "      <th>Ride_Count</th>\n",
       "      <th>Fall_Rate_Decimal</th>\n",
       "      <th>Fall_Rate_Percent</th>\n",
       "    </tr>\n",
       "  </thead>\n",
       "  <tbody>\n",
       "    <tr>\n",
       "      <th>0</th>\n",
       "      <td>0</td>\n",
       "      <td>Introductory-A</td>\n",
       "      <td>Full Moon Farms H.T.(Nov 2020)</td>\n",
       "      <td>Aylah Dhruv</td>\n",
       "      <td>Sig</td>\n",
       "      <td>37.0</td>\n",
       "      <td>7</td>\n",
       "      <td>0</td>\n",
       "      <td>0</td>\n",
       "      <td>37</td>\n",
       "      <td>...</td>\n",
       "      <td>3.2</td>\n",
       "      <td>NaN</td>\n",
       "      <td>0.72</td>\n",
       "      <td>0.0</td>\n",
       "      <td>0.0</td>\n",
       "      <td>0.19</td>\n",
       "      <td>1</td>\n",
       "      <td>130</td>\n",
       "      <td>0.007692</td>\n",
       "      <td>0.769231</td>\n",
       "    </tr>\n",
       "    <tr>\n",
       "      <th>1</th>\n",
       "      <td>1</td>\n",
       "      <td>Introductory-A</td>\n",
       "      <td>Full Moon Farms H.T.(Nov 2020)</td>\n",
       "      <td>Christine  Hryzak</td>\n",
       "      <td>FMF SOL</td>\n",
       "      <td>34.3</td>\n",
       "      <td>4</td>\n",
       "      <td>4</td>\n",
       "      <td>0</td>\n",
       "      <td>38.3</td>\n",
       "      <td>...</td>\n",
       "      <td>3.2</td>\n",
       "      <td>NaN</td>\n",
       "      <td>0.72</td>\n",
       "      <td>0.0</td>\n",
       "      <td>0.0</td>\n",
       "      <td>0.19</td>\n",
       "      <td>1</td>\n",
       "      <td>130</td>\n",
       "      <td>0.007692</td>\n",
       "      <td>0.769231</td>\n",
       "    </tr>\n",
       "  </tbody>\n",
       "</table>\n",
       "<p>2 rows × 39 columns</p>\n",
       "</div>"
      ],
      "text/plain": [
       "   Unnamed: 0        Division                           Event  \\\n",
       "0           0  Introductory-A  Full Moon Farms H.T.(Nov 2020)   \n",
       "1           1  Introductory-A  Full Moon Farms H.T.(Nov 2020)   \n",
       "\n",
       "               Rider    Horse  Dress Score  Dress Place Stad Jump Stad Time  \\\n",
       "0        Aylah Dhruv      Sig         37.0            7         0         0   \n",
       "1  Christine  Hryzak  FMF SOL         34.3            4         4         0   \n",
       "\n",
       "  To Date Score  ... cloudcover-end wgust-end moonphase-end  \\\n",
       "0            37  ...            3.2       NaN          0.72   \n",
       "1          38.3  ...            3.2       NaN          0.72   \n",
       "\n",
       "  Precip_Prior_3_Day Precip_Prior_5_Day Precip_Prior_7_Day  Event_Falls  \\\n",
       "0                0.0                0.0               0.19            1   \n",
       "1                0.0                0.0               0.19            1   \n",
       "\n",
       "   Ride_Count  Fall_Rate_Decimal  Fall_Rate_Percent  \n",
       "0         130           0.007692           0.769231  \n",
       "1         130           0.007692           0.769231  \n",
       "\n",
       "[2 rows x 39 columns]"
      ]
     },
     "execution_count": 5,
     "metadata": {},
     "output_type": "execute_result"
    }
   ],
   "source": [
    "# Import in data\n",
    "df = pd.read_csv('../fall_rate_analysis_fulldataset.csv')\n",
    "df.head(2)"
   ]
  },
  {
   "cell_type": "code",
   "execution_count": 12,
   "id": "israeli-bailey",
   "metadata": {},
   "outputs": [
    {
     "data": {
      "text/plain": [
       "Index(['Unnamed: 0', 'Division', 'Event', 'Rider', 'Horse', 'Dress Score',\n",
       "       'Dress Place', 'Stad Jump', 'Stad Time', 'To Date Score',\n",
       "       'To Date Place', 'XC Jump', 'XC Elapsed', 'XC Time', 'Final Score',\n",
       "       'Final Place', 'Difficulty', 'Junior', 'Senior', 'CT', 'Rider_x',\n",
       "       'Fall', 'Horse_x', 'Lon', 'Lat', 'temp-end', 'precip-end', 'wspd-end',\n",
       "       'visibility-end', 'cloudcover-end', 'wgust-end', 'moonphase-end',\n",
       "       'Precip_Prior_3_Day', 'Precip_Prior_5_Day', 'Precip_Prior_7_Day',\n",
       "       'Event_Falls', 'Ride_Count', 'Fall_Rate_Decimal', 'Fall_Rate_Percent'],\n",
       "      dtype='object')"
      ]
     },
     "execution_count": 12,
     "metadata": {},
     "output_type": "execute_result"
    }
   ],
   "source": [
    "# Get column names\n",
    "df.columns"
   ]
  },
  {
   "cell_type": "code",
   "execution_count": 29,
   "id": "transsexual-compound",
   "metadata": {},
   "outputs": [
    {
     "data": {
      "text/plain": [
       "Unnamed: 0            55250\n",
       "Division              55238\n",
       "Event                 55250\n",
       "Rider                 55250\n",
       "Horse                 55250\n",
       "Dress Score           55250\n",
       "Dress Place           55250\n",
       "Stad Jump             55250\n",
       "Stad Time             55250\n",
       "To Date Score         55250\n",
       "To Date Place         55250\n",
       "XC Jump               55250\n",
       "XC Elapsed            55250\n",
       "XC Time               55250\n",
       "Final Score           55250\n",
       "Final Place           55250\n",
       "Difficulty            55250\n",
       "Junior                55250\n",
       "Senior                55250\n",
       "CT                    55250\n",
       "Rider_x               50598\n",
       "Fall                  55250\n",
       "Horse_x               44787\n",
       "Lon                   26203\n",
       "Lat                   26203\n",
       "temp-end              26203\n",
       "precip-end            26203\n",
       "wspd-end              26203\n",
       "visibility-end        26203\n",
       "cloudcover-end        26203\n",
       "wgust-end             16878\n",
       "moonphase-end         26203\n",
       "Precip_Prior_3_Day    26203\n",
       "Precip_Prior_5_Day    26203\n",
       "Precip_Prior_7_Day    26203\n",
       "Event_Falls           55250\n",
       "Ride_Count            55250\n",
       "Fall_Rate_Decimal     55250\n",
       "Fall_Rate_Percent     55250\n",
       "dtype: int64"
      ]
     },
     "execution_count": 29,
     "metadata": {},
     "output_type": "execute_result"
    }
   ],
   "source": [
    "df.count()"
   ]
  },
  {
   "cell_type": "code",
   "execution_count": 25,
   "id": "psychological-munich",
   "metadata": {},
   "outputs": [
    {
     "data": {
      "text/plain": [
       "Series([], Name: Lat, dtype: float64)"
      ]
     },
     "execution_count": 25,
     "metadata": {},
     "output_type": "execute_result"
    }
   ],
   "source": [
    "df['Lat'].loc[df['Lat'] == np.nan]"
   ]
  },
  {
   "cell_type": "code",
   "execution_count": 30,
   "id": "external-enlargement",
   "metadata": {},
   "outputs": [
    {
     "data": {
      "text/plain": [
       "array(['Full Moon Farms H.T.(Nov 2020)',\n",
       "       'Horse Trials at Majestic Oaks (Nov 2020)',\n",
       "       'November 5th: Barnstaple Jackpot + 3-Phase',\n",
       "       'Galway Downs International Event & H.T.(Oct 2020)',\n",
       "       'Chattahoochee Hills H.T.(Oct 2020)', 'Grand Oaks Horse Trials',\n",
       "       'Waredaca Classic Horse Trials (Oct 2020)',\n",
       "       'Stable View Eventing Academy Schooling H.T.',\n",
       "       'War Horse Event Series October H.T.(Oct 2020)',\n",
       "       'Glenarden Farms Horse Trials',\n",
       "       'Woodside International H.T.(Oct 2020)',\n",
       "       'Bath Pony Club Mini Trial',\n",
       "       'Morven Park Fall International H.T. & CCIS',\n",
       "       'ESDCTA New Jersey H.T. at the Horsepark', 'Larkin Hill HT',\n",
       "       'Barnstaple South Jackpot and 3-Phase (Sept. 24)',\n",
       "       'Stable View Oktoberfest 1/ 2/3/4* and H.T.',\n",
       "       'Full Gallop Farm Sept. Schooling HT',\n",
       "       'Apple Knoll Farm H.T.(Sep 2020)',\n",
       "       'Plantation Field International CCI-S(Sep 2020)',\n",
       "       'Course Brook Farm Horse Trials', 'Majestic Oaks Schooling Show',\n",
       "       'GMHA Starter Horse Trials (Aug 2020)',\n",
       "       'Chattahoochee Hills H.T. (Aug 2020)',\n",
       "       'War Horse Event Series (Aug 2020)',\n",
       "       'Full Gallop Farm August HT(Aug 2020)',\n",
       "       'Fair Hill International August Horse Trials',\n",
       "       'The Summer Event at Woodside (Aug 2020)',\n",
       "       'Horse Park of New Jersey H.T. II',\n",
       "       'Stableview Eventing Academy- July',\n",
       "       'Silverwood Farm Summer Horse Trials',\n",
       "       'Galway Downs Horse Trials (July 2020)',\n",
       "       'Poplar Place Farm May H.T.(JULY 2020)',\n",
       "       'Maryland H.T. at Loch Moy Farm II(Jul 2020)',\n",
       "       'Full Gallop Farm Schooling Show (June2020)',\n",
       "       'Chattahoochee Hills HT Summer 1',\n",
       "       'Horse Park of New Jersey H.T. I', 'Texas Rose Horse Park H.T.',\n",
       "       'Full Gallop Farm HT', 'Silverwood Farm Spring Horse Trials',\n",
       "       'Feather Creek Farm H.T.(June 2020)',\n",
       "       'Full Gallop Farm Schooling Show (May 2020)',\n",
       "       'Stable View Eventing Academy Schooling HorseTrial',\n",
       "       'Meadow Creek Park - The Spring Social Event',\n",
       "       'Pine Top Spring Horse Trials', 'Ocala Winter II H.T.(Mar 2020)',\n",
       "       'Full Gallop Farm Schooling Show (March 11)',\n",
       "       'Full Gallop Farm March H.T.',\n",
       "       'Chattahoochee Hills H.T.(Feb 2020)',\n",
       "       'Full Gallop Farm February II H.T.(Feb 2020)',\n",
       "       'Pine Top Advanced Horse Trials',\n",
       "       'Rocking Horse Winter 2 Horse Trials',\n",
       "       'Full Gallop February Schooling HT',\n",
       "       'Pine Top Intermediate Horse Trials',\n",
       "       'Ocala Winter I Horse Trials',\n",
       "       'Full Gallop Farm February Horse Trials', 'Three Lakes Winter 1',\n",
       "       'Sporting Days Farm Feb. HT', 'Galway Downs Winter H.T.(Jan 2020)',\n",
       "       'Full Gallop Farm January H.T(Jan 2020)',\n",
       "       'Rocking Horse Winter I H.T.(Jan 2020)',\n",
       "       'Grand Oaks Horse Trials(Jan 2020)',\n",
       "       'Stable View Aiken Opener H.T.',\n",
       "       'Full Gallop Farm January Schooling Show',\n",
       "       'Sporting Days Farm Horse Trials IV(Dec 2019)',\n",
       "       'Pine Top Thanksgiving Horse Trials',\n",
       "       'Stable View Schooling Horse Trial(November)',\n",
       "       'Ocala Jockey Club International 3-Day Event',\n",
       "       'Majestic Oaks Horse Trials', 'Full Gallop Farm November HT',\n",
       "       'Galway Downs International Event & H.T. (Nov 2019)',\n",
       "       'Chattahoochee Hills H.T.(Oct 2019)',\n",
       "       'Waredaca Classic Horse Trials',\n",
       "       'Fair Hill International CCI****/***',\n",
       "       'War Horse Event Series (October 2019)',\n",
       "       'MDHT at Loch Moy Farm Classic BN3 Day Event & H.T.',\n",
       "       'Kent School Fall H.T.(Oct 2019)', 'Windridge Farm Fall HT',\n",
       "       'Morven Park Fall International H.T. & CCIS-2/3/4*',\n",
       "       'Woodside International H.T.(Oct 2019)', 'Surefire Horse Trials',\n",
       "       'Apple Knoll Farm H.T.(Sep 2019)',\n",
       "       'Feather Creek Farm H.T.(Sept 2019)',\n",
       "       'Plantation Field International',\n",
       "       'Blue Ridge Mountain Horse Trials at TIEC(Sep 2019)',\n",
       "       'Course Brook Farm Fall Horse Trials',\n",
       "       'Hunt Club Farms-Eventing For The Cure!',\n",
       "       'Chattahoochee Hills H.T. (Aug 2019)',\n",
       "       'Town Hill Farm Horse Trials(Aug 2019)',\n",
       "       'Full Gallop Farm August HT(Aug 2019)',\n",
       "       'Catalpa Corner Charity Horse Trial', 'Millbrook H.T.(Aug 2019)',\n",
       "       'Fair Hill International June Starter HT',\n",
       "       'Stable View Summer Horse Trials', 'Essex Horse Trials',\n",
       "       'Fox River Valley Pony Club HT',\n",
       "       'Full Gallop Farm June Horse Trials',\n",
       "       'Plantation Field June Starter Horse Trials',\n",
       "       'Plantation Field H.T.(June 2019)',\n",
       "       'Feather Creek Farm H.T.(Aug 2019)',\n",
       "       'Stable View Spring Horse Trials',\n",
       "       'Full Gallop Farm June Schooling Show',\n",
       "       'Poplar Place Farm June HT & Area Championships',\n",
       "       'Flora Lea Spring Horse Trials', 'Chattahoochee Hills May H.T.',\n",
       "       'Otter Creek Spring H.T.(May 2019)',\n",
       "       'Galway Downs Spring Horse Trials (2019)',\n",
       "       'Jersey Fresh International Three-day Event',\n",
       "       'Fair Hill International May Starter HT',\n",
       "       'Loudoun Hunt Pony Club Spring Horse Trial (April 2',\n",
       "       'Long Leaf Pine Horse Trials - CHP',\n",
       "       'Fair Hill International April Horse Trials',\n",
       "       'Stable View Schooling Horse Trial',\n",
       "       'FENCE Horse Trial (April 2019)',\n",
       "       'Ocala International 3-Day Festival of Eventing',\n",
       "       'Full Moon Farms 2019 Spring Thing',\n",
       "       'Chattahoochee Hills H.T. (April 2019)',\n",
       "       'The Fork at Tryon (April 2019)',\n",
       "       'Full Gallop Farm March II H.T. (2019)',\n",
       "       'Morven Park Spring Horse Trials',\n",
       "       'Galway Downs International Event and H.T. (2019)',\n",
       "       'Poplar Place March Horse Trials (2019)',\n",
       "       'Stable View Spring Horse Trials (2019)',\n",
       "       'Ocala Winter II Horse Trials', 'Full Gallop Farm March I HT',\n",
       "       'Red Hills International Horse Trial (March 2019)',\n",
       "       'Full Gallop Farm February H.T.',\n",
       "       'Paradise Farm Horse Trials (February 2019)',\n",
       "       'Galway Downs Winter Horse Trials', 'Full Gallop Farm January HT',\n",
       "       'Rocking Horse Winter 1 HT', 'Full Gallop Farm Nov HT',\n",
       "       'Horse Trials at Majestic Oaks (Jan 2020)'], dtype=object)"
      ]
     },
     "execution_count": 30,
     "metadata": {},
     "output_type": "execute_result"
    }
   ],
   "source": [
    "# Get list of unique event names\n",
    "event_names = df['Event'].loc[(df['Lat'] < 0) | (df['Lon'] < 0)].unique()\n",
    "event_names"
   ]
  },
  {
   "cell_type": "code",
   "execution_count": 44,
   "id": "fossil-living",
   "metadata": {},
   "outputs": [
    {
     "data": {
      "text/plain": [
       "133"
      ]
     },
     "execution_count": 44,
     "metadata": {},
     "output_type": "execute_result"
    }
   ],
   "source": [
    "# Get number of unique event names\n",
    "num_events = len(event_names)\n",
    "num_events"
   ]
  },
  {
   "cell_type": "code",
   "execution_count": 45,
   "id": "anticipated-technology",
   "metadata": {},
   "outputs": [],
   "source": [
    "# Create empty list to store clean names\n",
    "event_names_clean = []\n",
    "for event in event_names:\n",
    "    clean_string = re.findall(r'(^[\\s\\S]*)\\(', event)\n",
    "    if len(clean_string) == 0:\n",
    "        event_names_clean.append(event.replace())\n",
    "    else:\n",
    "        event_names_clean.append(clean_string[0])\n"
   ]
  },
  {
   "cell_type": "code",
   "execution_count": 46,
   "id": "disciplinary-wallet",
   "metadata": {},
   "outputs": [
    {
     "data": {
      "text/plain": [
       "133"
      ]
     },
     "execution_count": 46,
     "metadata": {},
     "output_type": "execute_result"
    }
   ],
   "source": [
    "len(event_names)"
   ]
  },
  {
   "cell_type": "code",
   "execution_count": 47,
   "id": "southern-arrangement",
   "metadata": {},
   "outputs": [
    {
     "name": "stdout",
     "output_type": "stream",
     "text": [
      "['Full Moon Farms H.T.', 'Horse Trials at Majestic Oaks ', 'November 5th: Barnstaple Jackpot + 3-Phase', 'Galway Downs International Event & H.T.', 'Chattahoochee Hills H.T.', 'Grand Oaks Horse Trials', 'Waredaca Classic Horse Trials ', 'Stable View Eventing Academy Schooling H.T.', 'War Horse Event Series October H.T.', 'Glenarden Farms Horse Trials', 'Woodside International H.T.', 'Bath Pony Club Mini Trial', 'Morven Park Fall International H.T. & CCIS', 'ESDCTA New Jersey H.T. at the Horsepark', 'Larkin Hill HT', 'Barnstaple South Jackpot and 3-Phase ', 'Stable View Oktoberfest 1/ 2/3/4* and H.T.', 'Full Gallop Farm Sept. Schooling HT', 'Apple Knoll Farm H.T.', 'Plantation Field International CCI-S', 'Course Brook Farm Horse Trials', 'Majestic Oaks Schooling Show', 'GMHA Starter Horse Trials ', 'Chattahoochee Hills H.T. ', 'War Horse Event Series ', 'Full Gallop Farm August HT', 'Fair Hill International August Horse Trials', 'The Summer Event at Woodside ', 'Horse Park of New Jersey H.T. II', 'Stableview Eventing Academy- July', 'Silverwood Farm Summer Horse Trials', 'Galway Downs Horse Trials ', 'Poplar Place Farm May H.T.', 'Maryland H.T. at Loch Moy Farm II', 'Full Gallop Farm Schooling Show ', 'Chattahoochee Hills HT Summer 1', 'Horse Park of New Jersey H.T. I', 'Texas Rose Horse Park H.T.', 'Full Gallop Farm HT', 'Silverwood Farm Spring Horse Trials', 'Feather Creek Farm H.T.', 'Full Gallop Farm Schooling Show ', 'Stable View Eventing Academy Schooling HorseTrial', 'Meadow Creek Park - The Spring Social Event', 'Pine Top Spring Horse Trials', 'Ocala Winter II H.T.', 'Full Gallop Farm Schooling Show ', 'Full Gallop Farm March H.T.', 'Chattahoochee Hills H.T.', 'Full Gallop Farm February II H.T.', 'Pine Top Advanced Horse Trials', 'Rocking Horse Winter 2 Horse Trials', 'Full Gallop February Schooling HT', 'Pine Top Intermediate Horse Trials', 'Ocala Winter I Horse Trials', 'Full Gallop Farm February Horse Trials', 'Three Lakes Winter 1', 'Sporting Days Farm Feb. HT', 'Galway Downs Winter H.T.', 'Full Gallop Farm January H.T', 'Rocking Horse Winter I H.T.', 'Grand Oaks Horse Trials', 'Stable View Aiken Opener H.T.', 'Full Gallop Farm January Schooling Show', 'Sporting Days Farm Horse Trials IV', 'Pine Top Thanksgiving Horse Trials', 'Stable View Schooling Horse Trial', 'Ocala Jockey Club International 3-Day Event', 'Majestic Oaks Horse Trials', 'Full Gallop Farm November HT', 'Galway Downs International Event & H.T. ', 'Chattahoochee Hills H.T.', 'Waredaca Classic Horse Trials', 'Fair Hill International CCI****/***', 'War Horse Event Series ', 'MDHT at Loch Moy Farm Classic BN3 Day Event & H.T.', 'Kent School Fall H.T.', 'Windridge Farm Fall HT', 'Morven Park Fall International H.T. & CCIS-2/3/4*', 'Woodside International H.T.', 'Surefire Horse Trials', 'Apple Knoll Farm H.T.', 'Feather Creek Farm H.T.', 'Plantation Field International', 'Blue Ridge Mountain Horse Trials at TIEC', 'Course Brook Farm Fall Horse Trials', 'Hunt Club Farms-Eventing For The Cure!', 'Chattahoochee Hills H.T. ', 'Town Hill Farm Horse Trials', 'Full Gallop Farm August HT', 'Catalpa Corner Charity Horse Trial', 'Millbrook H.T.', 'Fair Hill International June Starter HT', 'Stable View Summer Horse Trials', 'Essex Horse Trials', 'Fox River Valley Pony Club HT', 'Full Gallop Farm June Horse Trials', 'Plantation Field June Starter Horse Trials', 'Plantation Field H.T.', 'Feather Creek Farm H.T.', 'Stable View Spring Horse Trials', 'Full Gallop Farm June Schooling Show', 'Poplar Place Farm June HT & Area Championships', 'Flora Lea Spring Horse Trials', 'Chattahoochee Hills May H.T.', 'Otter Creek Spring H.T.', 'Galway Downs Spring Horse Trials ', 'Jersey Fresh International Three-day Event', 'Fair Hill International May Starter HT', 'Loudoun Hunt Pony Club Spring Horse Trial ', 'Long Leaf Pine Horse Trials - CHP', 'Fair Hill International April Horse Trials', 'Stable View Schooling Horse Trial', 'FENCE Horse Trial ', 'Ocala International 3-Day Festival of Eventing', 'Full Moon Farms 2019 Spring Thing', 'Chattahoochee Hills H.T. ', 'The Fork at Tryon ', 'Full Gallop Farm March II H.T. ', 'Morven Park Spring Horse Trials', 'Galway Downs International Event and H.T. ', 'Poplar Place March Horse Trials ', 'Stable View Spring Horse Trials ', 'Ocala Winter II Horse Trials', 'Full Gallop Farm March I HT', 'Red Hills International Horse Trial ', 'Full Gallop Farm February H.T.', 'Paradise Farm Horse Trials ', 'Galway Downs Winter Horse Trials', 'Full Gallop Farm January HT', 'Rocking Horse Winter 1 HT', 'Full Gallop Farm Nov HT', 'Horse Trials at Majestic Oaks ']\n"
     ]
    }
   ],
   "source": [
    "print(event_names_clean)"
   ]
  },
  {
   "cell_type": "code",
   "execution_count": null,
   "id": "upper-course",
   "metadata": {},
   "outputs": [],
   "source": []
  }
 ],
 "metadata": {
  "kernelspec": {
   "display_name": "Python [conda env:PythonData] *",
   "language": "python",
   "name": "conda-env-PythonData-py"
  },
  "language_info": {
   "codemirror_mode": {
    "name": "ipython",
    "version": 3
   },
   "file_extension": ".py",
   "mimetype": "text/x-python",
   "name": "python",
   "nbconvert_exporter": "python",
   "pygments_lexer": "ipython3",
   "version": "3.6.10"
  }
 },
 "nbformat": 4,
 "nbformat_minor": 5
}
